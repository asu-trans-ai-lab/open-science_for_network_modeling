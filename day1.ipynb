{
  "nbformat": 4,
  "nbformat_minor": 0,
  "metadata": {
    "colab": {
      "name": "day1.ipynb",
      "provenance": [],
      "authorship_tag": "ABX9TyMZnnjOgSP4uJEnCyxTgUuS",
      "include_colab_link": true
    },
    "kernelspec": {
      "name": "python3",
      "display_name": "Python 3"
    },
    "language_info": {
      "name": "python"
    }
  },
  "cells": [
    {
      "cell_type": "markdown",
      "metadata": {
        "id": "view-in-github",
        "colab_type": "text"
      },
      "source": [
        "<a href=\"https://colab.research.google.com/github/asu-trans-ai-lab/gmns_education_data_sets/blob/main/day1.ipynb\" target=\"_parent\"><img src=\"https://colab.research.google.com/assets/colab-badge.svg\" alt=\"Open In Colab\"/></a>"
      ]
    },
    {
      "cell_type": "code",
      "execution_count": 1,
      "metadata": {
        "colab": {
          "base_uri": "https://localhost:8080/"
        },
        "id": "T0DF6ItVq2aG",
        "outputId": "1255b7b6-f178-4e0c-8725-91034ba3e435"
      },
      "outputs": [
        {
          "output_type": "stream",
          "name": "stdout",
          "text": [
            "X! ! \n",
            "------\n",
            " ! ! \n",
            "------\n",
            " ! ! \n",
            "....................................\n",
            "X! ! \n",
            "------\n",
            " !O! \n",
            "------\n",
            " ! ! \n",
            "....................................\n",
            "X! ! \n",
            "------\n",
            " !O! \n",
            "------\n",
            " ! !X\n",
            "....................................\n"
          ]
        }
      ],
      "source": [
        "class TicTacToeGame:\n",
        "    def __init__(self):\n",
        "        self.state = [[\" \",\" \",\" \"], [\" \",\" \",\" \"], [\" \",\" \",\" \"]]\n",
        "    def print_state(self):\n",
        "        for row in self.state:\n",
        "            print (\"!\".join(row))\n",
        "            if row is not self.state[-1]:\n",
        "                print (\"------\")\n",
        "                \n",
        "        print (\"....................................\")\n",
        "\n",
        "            \n",
        "    def mark(self, row, col, symbol):\n",
        "        if self.state[row][col] == \" \":\n",
        "            self.state[row][col] = symbol\n",
        "            return True\n",
        "        else:\n",
        "            return False\n",
        "    def get_winner(self):\n",
        "        pass\n",
        "    def is_tie(self):\n",
        "        pass\n",
        "    \n",
        "if __name__ == \"__main__\":\n",
        "    t = TicTacToeGame()\n",
        "    t.mark(0,0,\"X\")\n",
        "    t.print_state()\n",
        "    t.mark(1,1,\"O\")\n",
        "    t.print_state()\n",
        "    t.mark(2,2,\"X\")\n",
        "    t.print_state()"
      ]
    }
  ]
}